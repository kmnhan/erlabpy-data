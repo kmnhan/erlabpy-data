{
 "cells": [
  {
   "cell_type": "markdown",
   "metadata": {},
   "source": [
    "## Save reference data"
   ]
  },
  {
   "cell_type": "code",
   "execution_count": null,
   "metadata": {},
   "outputs": [],
   "source": [
    "import os\n",
    "import pathlib\n",
    "\n",
    "import erlab\n"
   ]
  },
  {
   "cell_type": "markdown",
   "metadata": {},
   "source": [
    "### Save DA30 reference data"
   ]
  },
  {
   "cell_type": "code",
   "execution_count": null,
   "metadata": {},
   "outputs": [],
   "source": [
    "data_dir = pathlib.Path(\"./da30\")\n",
    "files = erlab.io.utils.get_files(data_dir, extensions=(\".pxt\", \".ibw\", \".zip\"))\n",
    "\n",
    "erlab.io.set_loader(\"da30\")\n",
    "\n",
    "for f in files:\n",
    "    new_file = (data_dir / \"expected\" / f.name).with_suffix(\".h5\")\n",
    "    data = erlab.io.load(f)\n",
    "    data.to_netcdf(\n",
    "        new_file,\n",
    "        encoding={\n",
    "            var: {\"compression\": \"gzip\", \"compression_opts\": 9}\n",
    "            for var in list(data.coords.keys()) + [data.name]\n",
    "        },\n",
    "        engine=\"h5netcdf\",\n",
    "        invalid_netcdf=True,\n",
    "    )"
   ]
  },
  {
   "cell_type": "markdown",
   "metadata": {},
   "source": [
    "### Save HERS reference data"
   ]
  },
  {
   "cell_type": "code",
   "execution_count": null,
   "metadata": {},
   "outputs": [],
   "source": [
    "import pathlib\n",
    "\n",
    "import erlab\n",
    "\n",
    "data_dir = pathlib.Path(\"./hers\")\n",
    "files = erlab.io.utils.get_files(data_dir, extensions=(\".fits\",))\n",
    "\n",
    "\n",
    "erlab.io.set_loader(\"hers\")\n",
    "\n",
    "for f in files:\n",
    "    new_file = (data_dir / \"expected\" / f.name).with_suffix(\".h5\")\n",
    "    data = erlab.io.load(f)\n",
    "    data.to_netcdf(\n",
    "        new_file,\n",
    "        encoding={\n",
    "            var: {\"compression\": \"gzip\", \"compression_opts\": 9}\n",
    "            for var in list(data.coords.keys()) + [data.name]\n",
    "        },\n",
    "        engine=\"h5netcdf\",\n",
    "        invalid_netcdf=True,\n",
    "    )"
   ]
  },
  {
   "cell_type": "markdown",
   "metadata": {},
   "source": [
    "### Save MBS reference data"
   ]
  },
  {
   "cell_type": "code",
   "execution_count": null,
   "metadata": {},
   "outputs": [],
   "source": [
    "import pathlib\n",
    "\n",
    "import erlab\n",
    "\n",
    "data_dir = pathlib.Path(\"./mbs\")\n",
    "files = erlab.io.utils.get_files(data_dir, extensions=(\".txt\", \".krx\"))\n",
    "\n",
    "\n",
    "erlab.io.set_loader(\"mbs\")\n",
    "\n",
    "for f in files:\n",
    "    new_file = (data_dir / \"expected\" / f.name).with_suffix(\".h5\")\n",
    "    data = erlab.io.load(f)\n",
    "    data.to_netcdf(\n",
    "        new_file,\n",
    "        encoding={\n",
    "            var: {\"compression\": \"gzip\", \"compression_opts\": 9}\n",
    "            for var in list(data.coords.keys()) + [data.name]\n",
    "        },\n",
    "        engine=\"h5netcdf\",\n",
    "        invalid_netcdf=True,\n",
    "    )"
   ]
  },
  {
   "cell_type": "markdown",
   "metadata": {},
   "source": [
    "### Save ESM reference data"
   ]
  },
  {
   "cell_type": "code",
   "execution_count": null,
   "metadata": {},
   "outputs": [],
   "source": [
    "data_dir = pathlib.Path(\"./esm\")\n",
    "erlab.io.set_loader(\"esm\")\n",
    "erlab.io.set_data_dir(data_dir)\n",
    "data = erlab.io.load(25)\n",
    "\n",
    "\n",
    "data.to_netcdf(\n",
    "    data_dir / \"expected\" / \"Sample0025.h5\",\n",
    "    encoding={\n",
    "        var: {\"compression\": \"gzip\", \"compression_opts\": 9}\n",
    "        for var in list(data.coords.keys())\n",
    "        + [data.name if data.name else \"__xarray_dataarray_variable__\"]\n",
    "    },\n",
    "    engine=\"h5netcdf\",\n",
    ")\n"
   ]
  },
  {
   "cell_type": "markdown",
   "metadata": {},
   "source": [
    "### Save I05 reference data"
   ]
  },
  {
   "cell_type": "code",
   "execution_count": null,
   "metadata": {},
   "outputs": [],
   "source": [
    "data_dir = \"./i05\"\n",
    "files = [f for f in os.listdir(data_dir) if f.endswith(\".nxs\") or f.endswith(\".krx\")]\n",
    "\n",
    "\n",
    "erlab.io.set_loader(\"i05\")\n",
    "\n",
    "for f in files:\n",
    "    new_name = (\n",
    "        f.replace(\".nxs\", \".h5\") if f.endswith(\".nxs\") else f.replace(\".krx\", \".h5\")\n",
    "    )\n",
    "\n",
    "    data = erlab.io.load(os.path.join(data_dir, f))\n",
    "\n",
    "    data.to_netcdf(\n",
    "        os.path.join(data_dir, \"expected\", new_name),\n",
    "        encoding={\n",
    "            var: {\"compression\": \"gzip\", \"compression_opts\": 9}\n",
    "            for var in list(data.coords.keys()) + [\"__xarray_dataarray_variable__\"]\n",
    "        },\n",
    "        engine=\"h5netcdf\",\n",
    "    )\n"
   ]
  },
  {
   "cell_type": "markdown",
   "metadata": {},
   "source": [
    "### Save LOREA reference data"
   ]
  },
  {
   "cell_type": "code",
   "execution_count": null,
   "metadata": {},
   "outputs": [],
   "source": [
    "import os\n",
    "\n",
    "import erlab\n",
    "\n",
    "data_dir = \"./lorea\"\n",
    "files = [f for f in os.listdir(data_dir) if f.endswith(\".nxs\") or f.endswith(\".krx\")]\n",
    "\n",
    "\n",
    "erlab.io.set_loader(\"lorea\")\n",
    "\n",
    "for f in files:\n",
    "    new_name = (\n",
    "        f.replace(\".nxs\", \".h5\") if f.endswith(\".nxs\") else f.replace(\".krx\", \".h5\")\n",
    "    )\n",
    "\n",
    "    data = erlab.io.load(os.path.join(data_dir, f))\n",
    "\n",
    "    data.to_netcdf(\n",
    "        os.path.join(data_dir, \"expected\", new_name),\n",
    "        encoding={\n",
    "            var: {\"compression\": \"gzip\", \"compression_opts\": 9}\n",
    "            for var in list(data.coords.keys()) + [\"__xarray_dataarray_variable__\"]\n",
    "        },\n",
    "        engine=\"h5netcdf\",\n",
    "    )\n"
   ]
  },
  {
   "cell_type": "markdown",
   "metadata": {},
   "source": [
    "### Save MAESTRO reference data"
   ]
  },
  {
   "cell_type": "code",
   "execution_count": null,
   "metadata": {},
   "outputs": [],
   "source": [
    "data_dir = \"./maestro\"\n",
    "\n",
    "erlab.io.set_loader(\"maestro\")\n",
    "erlab.io.set_data_dir(data_dir)\n",
    "\n",
    "data = erlab.io.load(1)\n",
    "data.to_netcdf(\n",
    "    os.path.join(data_dir, \"expected\", \"20241026_00001.h5\"),\n",
    "    encoding={\n",
    "        var: {\"compression\": \"gzip\", \"compression_opts\": 9}\n",
    "        for var in list(data.coords.keys())\n",
    "        + [data.name if data.name else \"__xarray_dataarray_variable__\"]\n",
    "    },\n",
    "    engine=\"h5netcdf\",\n",
    ")\n"
   ]
  },
  {
   "cell_type": "markdown",
   "metadata": {},
   "source": [
    "### Save Merlin reference data"
   ]
  },
  {
   "cell_type": "code",
   "execution_count": null,
   "metadata": {},
   "outputs": [],
   "source": [
    "import os\n",
    "\n",
    "import erlab\n",
    "\n",
    "data_dir = \"./merlin\"\n",
    "\n",
    "erlab.io.set_loader(\"merlin\")\n",
    "erlab.io.set_data_dir(data_dir)\n",
    "\n",
    "\n",
    "files = [\n",
    "    (\"lp.ibw\", \"lp.h5\"),\n",
    "    (\"lxy.ibw\", \"lxy.h5\"),\n",
    "    (\"core.pxt\", \"core.h5\"),\n",
    "    (\"f_005_S001.pxt\", \"5.h5\"),\n",
    "]\n",
    "\n",
    "for old, new in files:\n",
    "    data = erlab.io.load(old)\n",
    "    data.to_netcdf(\n",
    "        os.path.join(data_dir, \"expected\", new),\n",
    "        encoding={\n",
    "            var: {\"compression\": \"gzip\", \"compression_opts\": 9}\n",
    "            for var in list(data.coords.keys())\n",
    "            + [data.name if data.name else \"__xarray_dataarray_variable__\"]\n",
    "        },\n",
    "        engine=\"h5netcdf\",\n",
    "    )\n"
   ]
  },
  {
   "cell_type": "markdown",
   "metadata": {},
   "source": [
    "### Save SSRL reference data"
   ]
  },
  {
   "cell_type": "code",
   "execution_count": null,
   "metadata": {},
   "outputs": [],
   "source": [
    "data_dir = \"./ssrl52\"\n",
    "\n",
    "erlab.io.set_loader(\"ssrl52\")\n",
    "erlab.io.set_data_dir(data_dir)\n",
    "\n",
    "fnames = [\"f_0002.h5\", \"f_zap_0002.h5\"]\n",
    "\n",
    "\n",
    "for fn in fnames:\n",
    "    new_name = os.path.splitext(fn)[0] + \".h5\"\n",
    "    data = erlab.io.load(fn)\n",
    "    data.to_netcdf(\n",
    "        os.path.join(data_dir, \"expected\", new_name),\n",
    "        encoding={\n",
    "            var: {\"compression\": \"gzip\", \"compression_opts\": 9}\n",
    "            for var in list(data.coords.keys())\n",
    "            + [data.name if data.name else \"__xarray_dataarray_variable__\"]\n",
    "        },\n",
    "        engine=\"h5netcdf\",\n",
    "        invalid_netcdf=True,\n",
    "    )\n"
   ]
  },
  {
   "cell_type": "markdown",
   "metadata": {},
   "source": [
    "### Save ERPES reference data"
   ]
  },
  {
   "cell_type": "code",
   "execution_count": null,
   "metadata": {},
   "outputs": [],
   "source": [
    "data.attrs['data_type']"
   ]
  },
  {
   "cell_type": "code",
   "execution_count": null,
   "metadata": {},
   "outputs": [],
   "source": [
    "import pathlib\n",
    "\n",
    "import erlab\n",
    "import xarray as xr\n",
    "\n",
    "data_dir = pathlib.Path(\"./erpes\")\n",
    "\n",
    "# files = erlab.io.utils.get_files(data_dir, extensions=(\".pxt\", \".ibw\", \".zip\"))\n",
    "erlab.io.set_loader(\"erpes\")\n",
    "\n",
    "# for idx in (1, 2, 3, 4, 5):\n",
    "for idx in (6,):\n",
    "    new_file = (data_dir / \"expected\" / str(idx)).with_suffix(\".h5\")\n",
    "    data = erlab.io.load(idx, data_dir=data_dir)\n",
    "    if isinstance(data, xr.DataArray):\n",
    "        data.to_netcdf(\n",
    "            new_file,\n",
    "            encoding={\n",
    "                var: {\"compression\": \"gzip\", \"compression_opts\": 9}\n",
    "                for var in list(data.coords.keys())\n",
    "                + [data.name if data.name else \"__xarray_dataarray_variable__\"]\n",
    "            },\n",
    "            engine=\"h5netcdf\",\n",
    "            invalid_netcdf=True,\n",
    "        )\n",
    "    elif isinstance(data, xr.Dataset):\n",
    "        data.to_netcdf(\n",
    "            new_file,\n",
    "            encoding={\n",
    "                var: {\"compression\": \"gzip\", \"compression_opts\": 9}\n",
    "                for var in data.data_vars\n",
    "            },\n",
    "        )\n",
    "    else:\n",
    "        data.to_netcdf(new_file, engine=\"h5netcdf\")\n"
   ]
  }
 ],
 "metadata": {
  "kernelspec": {
   "display_name": "erlab",
   "language": "python",
   "name": "python3"
  },
  "language_info": {
   "codemirror_mode": {
    "name": "ipython",
    "version": 3
   },
   "file_extension": ".py",
   "mimetype": "text/x-python",
   "name": "python",
   "nbconvert_exporter": "python",
   "pygments_lexer": "ipython3",
   "version": "3.12.9"
  }
 },
 "nbformat": 4,
 "nbformat_minor": 2
}
